{
  "nbformat": 4,
  "nbformat_minor": 0,
  "metadata": {
    "kernelspec": {
      "display_name": "Python 3",
      "language": "python",
      "name": "python3"
    },
    "language_info": {
      "codemirror_mode": {
        "name": "ipython",
        "version": 3
      },
      "file_extension": ".py",
      "mimetype": "text/x-python",
      "name": "python",
      "nbconvert_exporter": "python",
      "pygments_lexer": "ipython3",
      "version": "3.8.5"
    },
    "colab": {
      "name": "陳榆潔-Week10-作業.ipynb」",
      "provenance": [],
      "include_colab_link": true
    }
  },
  "cells": [
    {
      "cell_type": "markdown",
      "metadata": {
        "id": "view-in-github",
        "colab_type": "text"
      },
      "source": [
        "<a href=\"https://colab.research.google.com/github/a109010039/Computational-Thinking-and-Program-Design/blob/main/%E9%99%B3%E6%A6%86%E6%BD%94_Week10_%E4%BD%9C%E6%A5%AD_ipynb%E3%80%8D.ipynb\" target=\"_parent\"><img src=\"https://colab.research.google.com/assets/colab-badge.svg\" alt=\"Open In Colab\"/></a>"
      ]
    },
    {
      "cell_type": "markdown",
      "metadata": {
        "id": "ZueCcodhePFq"
      },
      "source": [
        "# 基本程式設計(應用篇)"
      ]
    },
    {
      "cell_type": "markdown",
      "metadata": {
        "id": "YgjgKDF8ePFx"
      },
      "source": [
        "### 4-2 運算思維四個基石"
      ]
    },
    {
      "cell_type": "markdown",
      "metadata": {
        "id": "msokaoAiePFy"
      },
      "source": [
        "#### 4-2-4  問題拆解 - 打造你的聊天機器人"
      ]
    },
    {
      "cell_type": "markdown",
      "metadata": {
        "id": "fiNMWlZSePFy"
      },
      "source": [
        "「哈囉，大家好。我叫Zyxo64，是一個聊天機器人。\n",
        "\n",
        "在嗜好與興趣方面，我很喜歡美食，也喜歡養動物。\n",
        "\n",
        "很高興有機會來到世新大學，請大家多多指教。\n",
        "\n",
        "嗨！妳好，請問大名？：Francis。\n",
        "\n",
        "Francis，很高興認識你。"
      ]
    },
    {
      "cell_type": "code",
      "metadata": {
        "id": "J1W9JUk0ePFz",
        "colab": {
          "base_uri": "https://localhost:8080/"
        },
        "outputId": "83fd3bfe-a83a-47e7-f3b5-f2eaa2815056"
      },
      "source": [
        "# 1.聊天機器人自我介紹\n",
        "\n",
        "print(f\"在嗜好與興趣方面，我很喜歡美食，也喜歡養動物。\")\n",
        "hello = \"很高興有機會來到世新大學，請大家多多指教。\"\n",
        "print(hello)\n",
        "\n",
        "# 2. 打招呼，取得對方名字\n",
        "name = input(\"嗨！妳好，請問大名？：\")\n",
        "print(f\"{name}，很高興認識你。\")\n",
        "\n"
      ],
      "execution_count": 1,
      "outputs": [
        {
          "output_type": "stream",
          "text": [
            "在嗜好與興趣方面，我很喜歡美食，也喜歡養動物。\n",
            "很高興有機會來到世新大學，請大家多多指教。\n",
            "嗨！妳好，請問大名？：jessy\n",
            "jessy，很高興認識你。\n"
          ],
          "name": "stdout"
        }
      ]
    },
    {
      "cell_type": "markdown",
      "metadata": {
        "id": "LJ4CAYZDePFz"
      },
      "source": [
        "抱歉，請問一下今年是西元2021年，那是民國幾年呢？：*110*。\n",
        "\n",
        "對！沒錯，謝謝妳！\n",
        "\n",
        "**Francis**，猜猜看我今年幾歲？ ：**18**。\n",
        "\n",
        "哇！你好聰明，我今年的確*18*。\n",
        "\n",
        "再82年我就100歲了。\n",
        "\n",
        "那時候是西元 2103年，也就是民國192年囉！"
      ]
    },
    {
      "cell_type": "code",
      "metadata": {
        "id": "oqzFI2LIePFz",
        "colab": {
          "base_uri": "https://localhost:8080/",
          "height": 301
        },
        "outputId": "0e59ca50-abe3-42ca-b5b8-a8495a49a9dd"
      },
      "source": [
        "# 3. 數學運算\n",
        "## 3-1 從使用者取得今年年份\n",
        "year = input(\"請問一下今年是西元2021年，那是民國幾年呢？\")\n",
        "\n",
        "print(\"對！沒錯，謝謝妳！\")\n",
        "## 3-2 請使用者猜年齡\n",
        "age = input(\"Francis，猜猜看我今年幾歲？ \")\n",
        "print(\"哇！你好聰明，我今年的確18\")\n",
        "\n",
        "\n",
        "\n",
        "\n",
        "## 3-3 計算聊天機器人滿100歲的年份\n",
        "nyear = 100-int(age)\n",
        "print(f\"再{nyears}年我就100歲了。\")\n",
        "print(f\"那時候是西元{int(year) + nyeats + 1911}年\")\n",
        "\n",
        "\n"
      ],
      "execution_count": 30,
      "outputs": [
        {
          "output_type": "stream",
          "text": [
            "請問一下今年是西元2021年，那是民國幾年呢？2002\n",
            "對！沒錯，謝謝妳！\n",
            "Francis，猜猜看我今年幾歲？ 18\n",
            "哇！你好聰明，我今年的確18\n"
          ],
          "name": "stdout"
        },
        {
          "output_type": "error",
          "ename": "NameError",
          "evalue": "ignored",
          "traceback": [
            "\u001b[0;31m---------------------------------------------------------------------------\u001b[0m",
            "\u001b[0;31mNameError\u001b[0m                                 Traceback (most recent call last)",
            "\u001b[0;32m<ipython-input-30-eea27c13788e>\u001b[0m in \u001b[0;36m<module>\u001b[0;34m()\u001b[0m\n\u001b[1;32m     13\u001b[0m \u001b[0;31m## 3-3 計算聊天機器人滿100歲的年份\u001b[0m\u001b[0;34m\u001b[0m\u001b[0;34m\u001b[0m\u001b[0;34m\u001b[0m\u001b[0m\n\u001b[1;32m     14\u001b[0m \u001b[0mnyear\u001b[0m \u001b[0;34m=\u001b[0m \u001b[0;36m100\u001b[0m\u001b[0;34m-\u001b[0m\u001b[0mint\u001b[0m\u001b[0;34m(\u001b[0m\u001b[0mage\u001b[0m\u001b[0;34m)\u001b[0m\u001b[0;34m\u001b[0m\u001b[0;34m\u001b[0m\u001b[0m\n\u001b[0;32m---> 15\u001b[0;31m \u001b[0mprint\u001b[0m\u001b[0;34m(\u001b[0m\u001b[0;34mf\"再{nyears}年我就100歲了。\"\u001b[0m\u001b[0;34m)\u001b[0m\u001b[0;34m\u001b[0m\u001b[0;34m\u001b[0m\u001b[0m\n\u001b[0m\u001b[1;32m     16\u001b[0m \u001b[0mprint\u001b[0m\u001b[0;34m(\u001b[0m\u001b[0;34mf\"那時候是西元{int(year) + nyeats + 1911}年\"\u001b[0m\u001b[0;34m)\u001b[0m\u001b[0;34m\u001b[0m\u001b[0;34m\u001b[0m\u001b[0m\n\u001b[1;32m     17\u001b[0m \u001b[0;34m\u001b[0m\u001b[0m\n",
            "\u001b[0;31mNameError\u001b[0m: name 'nyears' is not defined"
          ]
        }
      ]
    },
    {
      "cell_type": "markdown",
      "metadata": {
        "id": "UcEZXWHOePF0"
      },
      "source": [
        "我喜歡吃巧克力，也喜歡嘗試各種新食物。\n",
        "\n",
        "你呢？你最喜歡的食物是什麼？**:披薩**。\n",
        "\n",
        "我也喜歡 *披薩*。\n",
        "\n",
        "你多久吃一次 *披薩*？**：每天**。\n",
        "\n",
        "真有趣。不知道這樣對健康好不好。"
      ]
    },
    {
      "cell_type": "code",
      "metadata": {
        "id": "WG1iSYCbePF0",
        "colab": {
          "base_uri": "https://localhost:8080/",
          "height": 267
        },
        "outputId": "efe5587a-5f2a-4b03-d88a-e87abe6aba65"
      },
      "source": [
        "# 4 興趣\n",
        "## 4-1 食物話題\n",
        "print(\"我喜歡吃巧克力，也喜歡嘗試各種新食物。\")\n",
        "food = input(\"你呢？你最喜歡的食物是什麼？:\")\n",
        "print(\"我也喜歡\", food) \n",
        "question = \"你多久吃一次\" + food + \"?:\"\n",
        "howoften = input(queation)\n",
        "print(\"真有趣。不知道這樣對健康好不好。\")\n"
      ],
      "execution_count": 22,
      "outputs": [
        {
          "output_type": "stream",
          "text": [
            "我喜歡吃巧克力，也喜歡嘗試各種新食物。\n",
            "你呢？你最喜歡的食物是什麼？:漢堡\n",
            "我也喜歡 漢堡\n"
          ],
          "name": "stdout"
        },
        {
          "output_type": "error",
          "ename": "NameError",
          "evalue": "ignored",
          "traceback": [
            "\u001b[0;31m---------------------------------------------------------------------------\u001b[0m",
            "\u001b[0;31mNameError\u001b[0m                                 Traceback (most recent call last)",
            "\u001b[0;32m<ipython-input-22-fcd0e109af09>\u001b[0m in \u001b[0;36m<module>\u001b[0;34m()\u001b[0m\n\u001b[1;32m      5\u001b[0m \u001b[0mprint\u001b[0m\u001b[0;34m(\u001b[0m\u001b[0;34m\"我也喜歡\"\u001b[0m\u001b[0;34m,\u001b[0m \u001b[0mfood\u001b[0m\u001b[0;34m)\u001b[0m\u001b[0;34m\u001b[0m\u001b[0;34m\u001b[0m\u001b[0m\n\u001b[1;32m      6\u001b[0m \u001b[0mquestion\u001b[0m \u001b[0;34m=\u001b[0m \u001b[0;34m\"你多久吃一次\"\u001b[0m \u001b[0;34m+\u001b[0m \u001b[0mfood\u001b[0m \u001b[0;34m+\u001b[0m \u001b[0;34m\"?:\"\u001b[0m\u001b[0;34m\u001b[0m\u001b[0;34m\u001b[0m\u001b[0m\n\u001b[0;32m----> 7\u001b[0;31m \u001b[0mhowoften\u001b[0m \u001b[0;34m=\u001b[0m \u001b[0minput\u001b[0m\u001b[0;34m(\u001b[0m\u001b[0mqueation\u001b[0m\u001b[0;34m)\u001b[0m\u001b[0;34m\u001b[0m\u001b[0;34m\u001b[0m\u001b[0m\n\u001b[0m\u001b[1;32m      8\u001b[0m \u001b[0mprint\u001b[0m\u001b[0;34m(\u001b[0m\u001b[0;34m\"真有趣。不知道這樣對健康好不好。\"\u001b[0m\u001b[0;34m)\u001b[0m\u001b[0;34m\u001b[0m\u001b[0;34m\u001b[0m\u001b[0m\n",
            "\u001b[0;31mNameError\u001b[0m: name 'queation' is not defined"
          ]
        }
      ]
    },
    {
      "cell_type": "markdown",
      "metadata": {
        "id": "B9qMgOByePF0"
      },
      "source": [
        "我最喜歡的動物是長頸鹿。你呢？ **：烏龜**。\n",
        "\n",
        "我不喜歡*烏龜*！\n",
        "\n",
        "不知道 *烏龜* 喜不喜歡吃 *披薩*？"
      ]
    },
    {
      "cell_type": "code",
      "metadata": {
        "id": "M22QGM9PePF1",
        "colab": {
          "base_uri": "https://localhost:8080/"
        },
        "outputId": "faa7c6f7-f4b9-4c96-deb3-03321b3dc478"
      },
      "source": [
        "# 4 興趣\n",
        "## 4-2 動物話題\n",
        "animal = input(\"我最喜歡的動物是長頸鹿。你呢？ ：\")\n",
        "print(\"我不喜歡\", animal)\n",
        "print(\"不知道\", animal, \"喜不喜歡吃\", food,\"?\")\n"
      ],
      "execution_count": 32,
      "outputs": [
        {
          "output_type": "stream",
          "text": [
            "我最喜歡的動物是長頸鹿。你呢？ ：貓\n",
            "我不喜歡 貓\n",
            "不知道 貓 喜不喜歡吃 漢堡 ?\n"
          ],
          "name": "stdout"
        }
      ]
    },
    {
      "cell_type": "markdown",
      "metadata": {
        "id": "-uRhrFhcePF1"
      },
      "source": [
        "你今天的心情如何？ **：很開心**。\n",
        "\n",
        "可以告訴我你 *開心* 的原因嗎？**因為週末了！** \n",
        "\n",
        "祝你週末愉快！\n",
        "\n",
        "我喜歡跟你聊天，現在有點累了，改天再聊吧！！\n",
        "\n",
        "再見 *Francis*！"
      ]
    },
    {
      "cell_type": "code",
      "metadata": {
        "id": "VxV_oZZsePF1",
        "colab": {
          "base_uri": "https://localhost:8080/"
        },
        "outputId": "453d7417-700a-4dc8-9a46-314192ea4d10"
      },
      "source": [
        "# 5. 關於心情的對話\n",
        "feeling=input(\"你今天的心情如何？ ：\")\n",
        "print(\"可以告訴我,你\",feeling,\"的原因。\")\n",
        "reason=input(\"因為週末了！\")\n",
        "print(\"祝你週末愉快！\")\n",
        "print(\"我喜歡跟你聊天，現在有點累了，改天再聊吧！\")\n",
        "print(\"再見 Francis！\")\n"
      ],
      "execution_count": 37,
      "outputs": [
        {
          "output_type": "stream",
          "text": [
            "你今天的心情如何？ ：cool\n",
            "可以告訴我,你 cool 的原因。\n",
            "因為週末了！真棒ˋ\n",
            "祝你週末愉快！\n",
            "我喜歡跟你聊天，現在有點累了，改天再聊吧！\n",
            "再見 Francis！\n"
          ],
          "name": "stdout"
        }
      ]
    },
    {
      "cell_type": "markdown",
      "metadata": {
        "id": "8jJaZtE7ePF1"
      },
      "source": [
        "我喜歡跟你聊天，現在有點累了，改天再聊吧！！\n",
        "\n",
        "再見 *Francis*！"
      ]
    },
    {
      "cell_type": "code",
      "metadata": {
        "id": "LYuL110hePF2"
      },
      "source": [
        "# 6. 道別\n"
      ],
      "execution_count": null,
      "outputs": []
    },
    {
      "cell_type": "markdown",
      "metadata": {
        "id": "uuZOrZ4LePF2"
      },
      "source": [
        "## 期末報告"
      ]
    },
    {
      "cell_type": "markdown",
      "metadata": {
        "id": "6CeFN8L0ePF2"
      },
      "source": [
        "### 組長(學號姓名):\n",
        "\n"
      ]
    },
    {
      "cell_type": "markdown",
      "metadata": {
        "id": "8inxgYLYePF2"
      },
      "source": [
        "### 組員(學號姓名):\n",
        "\n"
      ]
    },
    {
      "cell_type": "markdown",
      "metadata": {
        "id": "uai9J1w9ePF2"
      },
      "source": [
        "### 題目:"
      ]
    },
    {
      "cell_type": "markdown",
      "metadata": {
        "id": "Hl2rfup2ePF3"
      },
      "source": [
        "### 百字腳本\n",
        "\n"
      ]
    }
  ]
}