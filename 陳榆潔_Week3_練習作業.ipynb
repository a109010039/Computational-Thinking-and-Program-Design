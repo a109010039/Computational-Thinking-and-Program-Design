{
  "nbformat": 4,
  "nbformat_minor": 0,
  "metadata": {
    "colab": {
      "name": "陳榆潔-Week3-練習作業.ipynb",
      "provenance": [],
      "authorship_tag": "ABX9TyNwMgc9WX6IKYBwcD+DhoMe",
      "include_colab_link": true
    },
    "kernelspec": {
      "name": "python3",
      "display_name": "Python 3"
    }
  },
  "cells": [
    {
      "cell_type": "markdown",
      "metadata": {
        "id": "view-in-github",
        "colab_type": "text"
      },
      "source": [
        "<a href=\"https://colab.research.google.com/github/a109010039/Computational-Thinking-and-Program-Design/blob/main/%E9%99%B3%E6%A6%86%E6%BD%94_Week3_%E7%B7%B4%E7%BF%92%E4%BD%9C%E6%A5%AD.ipynb\" target=\"_parent\"><img src=\"https://colab.research.google.com/assets/colab-badge.svg\" alt=\"Open In Colab\"/></a>"
      ]
    },
    {
      "cell_type": "markdown",
      "metadata": {
        "id": "T1lNiWwSNK1k"
      },
      "source": [
        "#隨堂練習\r\n",
        "\r\n"
      ]
    },
    {
      "cell_type": "code",
      "metadata": {
        "id": "UVl0kYLgNZeq"
      },
      "source": [
        "print(1=1)\r\n"
      ],
      "execution_count": null,
      "outputs": []
    },
    {
      "cell_type": "markdown",
      "metadata": {
        "id": "z4IttO9PNQ7E"
      },
      "source": [
        "## 課後作業\r\n",
        "從一則新聞報導，提出你對新聞系學生為什麼要學「運算思維與程式設計」的見解。\r\n"
      ]
    },
    {
      "cell_type": "markdown",
      "metadata": {
        "id": "L8nP_ntZRZy_"
      },
      "source": [
        "用電腦解決問題為課程的核心綱要，運算思維則是一種新興的思考邏輯方式，用資訊科技輔助學生增強想像力，最終培養出創造及解決問題的能力，用具有規劃的邏輯性思考創造出具有細膩關聯的互動。程式語言是我們和電腦唯一能溝通的橋樑，為了讓電腦性能更優化，程式設計便成為通往未來的必經之路，隨著科技日新月益發展，程式設計恐成為未來人口中之一的普通常識，為增加自身的競爭力，應盡最大所能將所得專業融入其中。\r\n",
        "\r\n",
        "新聞連結https://udn.com/news/story/6904/4486806\r\n"
      ]
    },
    {
      "cell_type": "code",
      "metadata": {
        "id": "LGVIV221dSmq"
      },
      "source": [
        ""
      ],
      "execution_count": null,
      "outputs": []
    }
  ]
}