{
  "nbformat": 4,
  "nbformat_minor": 0,
  "metadata": {
    "colab": {
      "name": "「程式設計期末a109010039陳榆潔」的副本",
      "provenance": [],
      "authorship_tag": "ABX9TyN3J1GC9jSs1uw8dr7cM/Bs",
      "include_colab_link": true
    },
    "kernelspec": {
      "name": "python3",
      "display_name": "Python 3"
    },
    "language_info": {
      "name": "python"
    }
  },
  "cells": [
    {
      "cell_type": "markdown",
      "metadata": {
        "id": "view-in-github",
        "colab_type": "text"
      },
      "source": [
        "<a href=\"https://colab.research.google.com/github/a109010039/Computational-Thinking-and-Program-Design/blob/main/%E3%80%8C%E7%A8%8B%E5%BC%8F%E8%A8%AD%E8%A8%88%E6%9C%9F%E6%9C%ABa109010039%E9%99%B3%E6%A6%86%E6%BD%94%E3%80%8D.ipynb\" target=\"_parent\"><img src=\"https://colab.research.google.com/assets/colab-badge.svg\" alt=\"Open In Colab\"/></a>"
      ]
    },
    {
      "cell_type": "code",
      "metadata": {
        "id": "XcDPBPJxStbT"
      },
      "source": [
        ""
      ],
      "execution_count": null,
      "outputs": []
    },
    {
      "cell_type": "markdown",
      "metadata": {
        "id": "ljXx71jVS4ea"
      },
      "source": [
        "我輕輕地走，正如同我悄悄的來，我揮一揮衣袖，不帶走一片雲彩。\n",
        "\n",
        "今天是林安第一次到世新大學參觀，背負家鄉期望、獨自扛起的艱辛，讓她默默許下要在新聞系闖出一片天。\n",
        "\n",
        "又仁:你好，我是帶你參觀校園的聊天機器人，我的名字是又仁，你叫什麼名字呢? :我是林安。 又仁:你好，林安，你今年幾歲呢? 林安:我今年升大一，你猜我幾歲? 又仁:19歲 林安:你好棒!竟然猜對了\n",
        "\n",
        "林安:再31年我就50歲，你知道那時會是西元幾年嗎? 又仁:2070年\n",
        "\n",
        ":是2071 :抱歉我不太會算數、真希望到時候我們還能見面。\n",
        "\n",
        ":對了!最近要買系服了 你想好你要穿甚麼尺寸了嗎?\n",
        "\n",
        ":還沒耶 我不知道我適合什麼樣的尺寸\n",
        "\n",
        "又仁:那你給我身高體重 我幫你決定\n",
        "\n",
        "又仁:身高: (輸入身高)\n",
        "\n",
        "又仁:體重: (輸入體重)\n",
        "\n",
        "又仁:你適合(S,M,L,XL)\n",
        "\n",
        "林安:謝拉 真期待穿到好看的系服\n",
        "\n",
        "林安:我們操場感覺好小喔 你知道操場面積嗎?\n",
        "\n",
        "又仁:不知道 你給我半徑我幫你算\n",
        "\n",
        "林安:我查一下手機 半徑:\n",
        "\n",
        "又仁:面積是xxx\n",
        "\n",
        ":祝你有個愉快的一天、大學生活順遂、掰掰。 :掰掰。"
      ]
    },
    {
      "cell_type": "code",
      "metadata": {
        "colab": {
          "base_uri": "https://localhost:8080/",
          "height": 617
        },
        "id": "qS3O2BOMS6LS",
        "outputId": "b1b3b457-be71-48ce-a902-8743f003c8f5"
      },
      "source": [
        "print(\"我輕輕地走，正如同我悄悄的來，我揮一揮衣袖，不帶走一片雲彩。\")\n",
        "print(\"今天是林安第一次到世新大學參觀，背負家鄉期望、獨自扛起的艱辛，讓她默默許下要在新聞系闖出一片天。\")\n",
        "name=str(input(\"你好，我是帶你參觀校園的聊天機器人，我的名字是又仁，你叫什麼名字呢?\"))\n",
        "print(\"你好，林安，你今年幾歲呢?\")\n",
        "age=int(input(\"我今年升大一，你猜我幾歲?\"))\n",
        "while (age!=19) :\n",
        "  age=int(input(\"猜錯了，再猜一次:\"))\n",
        "if  (age==19) :\n",
        "  print(\"你好棒!竟然猜對了\")\n",
        "year=int(input(\"再31年我就50歲，你知道那時會是西元幾年嗎?\"))\n",
        "while (year!=2071) :\n",
        "  year=int(input(\"猜錯了，再猜一次:\"))\n",
        "if  (year==2071) :\n",
        "  print(\"你好棒!竟然猜對了\")\n",
        "print(\"抱歉我不太會算數、真希望到時候我們還能見面。\")\n",
        "print(\"對了!最近要買系服了 你想好你要穿甚麼尺寸了嗎?\")\n",
        "print(\"還沒耶 我不知道我適合什麼樣的尺寸\")\n",
        "print(\"那你給我身高體重 我幫你決定\")\n",
        "high=int(input(\"身高:\"))\n",
        "weight=int(input(\"體重:\"))\n",
        "if  (weight>=75) or (high>=180)  :\n",
        "  print(\"你適合XL\")\n",
        "elif  (weight>=61)  or (high>=170) :\n",
        "  print(\"你適合L\")\n",
        "elif  (weight>=56) or (high>=161)  :\n",
        "  print(\"你適合M\")\n",
        "else  :\n",
        "  print(\"你適合S\")\n",
        "bmi=weight/(high*high/10000)\n",
        "print(\"順便跟你說，你的BMI是:\",bmi)\n",
        "print(\"謝拉 真期待穿到好看的系服\")\n",
        "print(\"我們操場感覺好小喔 你知道操場面積嗎?\")\n",
        "print(\"不知道 但你可以給我半徑我幫你算\")\n",
        "r=int(input(\"我查一下手機 半徑:\"))\n",
        "area=r*r*(math.pi)\n",
        "circle=2*r*(math.pi)\n",
        "print(\"面積是:\",area)\n",
        "print(\"順便跟你說操場的周長是:\",circle)\n",
        "print(\"謝謝，祝你有個愉快的一天、大學生活順遂、掰掰。\")\n",
        "print(\"掰掰\")"
      ],
      "execution_count": null,
      "outputs": [
        {
          "output_type": "stream",
          "text": [
            "我輕輕地走，正如同我悄悄的來，我揮一揮衣袖，不帶走一片雲彩。\n",
            "今天是林安第一次到世新大學參觀，背負家鄉期望、獨自扛起的艱辛，讓她默默許下要在新聞系闖出一片天。\n",
            "你好，我是帶你參觀校園的聊天機器人，我的名字是又仁，你叫什麼名字呢?榆潔\n",
            "你好，林安，你今年幾歲呢?\n",
            "我今年升大一，你猜我幾歲?12\n",
            "猜錯了，再猜一次:19\n",
            "你好棒!竟然猜對了\n",
            "再31年我就50歲，你知道那時會是西元幾年嗎?2021\n",
            "猜錯了，再猜一次:2027\n",
            "猜錯了，再猜一次:2071\n",
            "你好棒!竟然猜對了\n",
            "抱歉我不太會算數、真希望到時候我們還能見面。\n",
            "對了!最近要買系服了 你想好你要穿甚麼尺寸了嗎?\n",
            "還沒耶 我不知道我適合什麼樣的尺寸\n",
            "那你給我身高體重 我幫你決定\n",
            "身高:214\n",
            "體重:21\n",
            "你適合XL\n",
            "順便跟你說，你的BMI是: 4.585553323434361\n",
            "謝拉 真期待穿到好看的系服\n",
            "我們操場感覺好小喔 你知道操場面積嗎?\n",
            "不知道 但你可以給我半徑我幫你算\n",
            "我查一下手機 半徑:65.1\n"
          ],
          "name": "stdout"
        },
        {
          "output_type": "error",
          "ename": "ValueError",
          "evalue": "ignored",
          "traceback": [
            "\u001b[0;31m---------------------------------------------------------------------------\u001b[0m",
            "\u001b[0;31mValueError\u001b[0m                                Traceback (most recent call last)",
            "\u001b[0;32m<ipython-input-1-3cf3d0969931>\u001b[0m in \u001b[0;36m<module>\u001b[0;34m()\u001b[0m\n\u001b[1;32m     32\u001b[0m \u001b[0mprint\u001b[0m\u001b[0;34m(\u001b[0m\u001b[0;34m\"我們操場感覺好小喔 你知道操場面積嗎?\"\u001b[0m\u001b[0;34m)\u001b[0m\u001b[0;34m\u001b[0m\u001b[0;34m\u001b[0m\u001b[0m\n\u001b[1;32m     33\u001b[0m \u001b[0mprint\u001b[0m\u001b[0;34m(\u001b[0m\u001b[0;34m\"不知道 但你可以給我半徑我幫你算\"\u001b[0m\u001b[0;34m)\u001b[0m\u001b[0;34m\u001b[0m\u001b[0;34m\u001b[0m\u001b[0m\n\u001b[0;32m---> 34\u001b[0;31m \u001b[0mr\u001b[0m\u001b[0;34m=\u001b[0m\u001b[0mint\u001b[0m\u001b[0;34m(\u001b[0m\u001b[0minput\u001b[0m\u001b[0;34m(\u001b[0m\u001b[0;34m\"我查一下手機 半徑:\"\u001b[0m\u001b[0;34m)\u001b[0m\u001b[0;34m)\u001b[0m\u001b[0;34m\u001b[0m\u001b[0;34m\u001b[0m\u001b[0m\n\u001b[0m\u001b[1;32m     35\u001b[0m \u001b[0marea\u001b[0m\u001b[0;34m=\u001b[0m\u001b[0mr\u001b[0m\u001b[0;34m*\u001b[0m\u001b[0mr\u001b[0m\u001b[0;34m*\u001b[0m\u001b[0;34m(\u001b[0m\u001b[0mmath\u001b[0m\u001b[0;34m.\u001b[0m\u001b[0mpi\u001b[0m\u001b[0;34m)\u001b[0m\u001b[0;34m\u001b[0m\u001b[0;34m\u001b[0m\u001b[0m\n\u001b[1;32m     36\u001b[0m \u001b[0mcircle\u001b[0m\u001b[0;34m=\u001b[0m\u001b[0;36m2\u001b[0m\u001b[0;34m*\u001b[0m\u001b[0mr\u001b[0m\u001b[0;34m*\u001b[0m\u001b[0;34m(\u001b[0m\u001b[0mmath\u001b[0m\u001b[0;34m.\u001b[0m\u001b[0mpi\u001b[0m\u001b[0;34m)\u001b[0m\u001b[0;34m\u001b[0m\u001b[0;34m\u001b[0m\u001b[0m\n",
            "\u001b[0;31mValueError\u001b[0m: invalid literal for int() with base 10: '65.1'"
          ]
        }
      ]
    },
    {
      "cell_type": "code",
      "metadata": {
        "id": "jY3EylBYTOCB"
      },
      "source": [
        ""
      ],
      "execution_count": null,
      "outputs": []
    }
  ]
}